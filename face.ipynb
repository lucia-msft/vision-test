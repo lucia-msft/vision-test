{
 "metadata": {
  "language_info": {
   "codemirror_mode": {
    "name": "ipython",
    "version": 3
   },
   "file_extension": ".py",
   "mimetype": "text/x-python",
   "name": "python",
   "nbconvert_exporter": "python",
   "pygments_lexer": "ipython3",
   "version": "3.8.2-final"
  },
  "orig_nbformat": 2,
  "kernelspec": {
   "name": "Python 3.8.2 64-bit",
   "display_name": "Python 3.8.2 64-bit",
   "metadata": {
    "interpreter": {
     "hash": "31f2aee4e71d21fbe5cf8b01ff0e069b9275f58929596ceb00d14d90e3e16cd6"
    }
   }
  }
 },
 "nbformat": 4,
 "nbformat_minor": 2,
 "cells": [
  {
   "source": [
    "# Face Scenarios"
   ],
   "cell_type": "markdown",
   "metadata": {}
  },
  {
   "cell_type": "code",
   "execution_count": 47,
   "metadata": {},
   "outputs": [],
   "source": [
    "import asyncio\n",
    "import io\n",
    "import glob\n",
    "import os\n",
    "import sys\n",
    "import time\n",
    "import uuid\n",
    "import requests\n",
    "from urllib.parse import urlparse\n",
    "from io import BytesIO\n",
    "from PIL import Image, ImageDraw\n",
    "from azure.cognitiveservices.vision.face import FaceClient\n",
    "from msrest.authentication import CognitiveServicesCredentials\n",
    "from azure.cognitiveservices.vision.face.models import TrainingStatusType, Person, SnapshotObjectType, OperationStatusType\n",
    "from dotenv import load_dotenv"
   ]
  },
  {
   "cell_type": "code",
   "execution_count": 49,
   "metadata": {
    "tags": []
   },
   "outputs": [
    {
     "output_type": "stream",
     "name": "stdout",
     "text": "fbd682cf5ed044029d1826418468fc71\n"
    }
   ],
   "source": [
    "load_dotenv()\n",
    "\n",
    "# Set the FACE_SUBSCRIPTION_KEY environment variable with your key as the value.\n",
    "# This key will serve all examples in this document.\n",
    "KEY = os.getenv('FACE_KEY')\n",
    "\n",
    "# Set the FACE_ENDPOINT environment variable with the endpoint from your Face service in Azure.\n",
    "# This endpoint will be used in all examples in this quickstart.\n",
    "ENDPOINT = os.getenv('FACE_ENDPOINT')"
   ]
  },
  {
   "source": [
    "## Emotion Detection"
   ],
   "cell_type": "markdown",
   "metadata": {}
  },
  {
   "cell_type": "code",
   "execution_count": 19,
   "metadata": {
    "tags": []
   },
   "outputs": [
    {
     "output_type": "stream",
     "name": "stdout",
     "text": "Detected face ID from john-f-kennedy---mini-biography.jpg :\n{'additional_properties': {}, 'age': 52.0, 'gender': None, 'smile': None, 'facial_hair': None, 'glasses': None, 'head_pose': None, 'emotion': <azure.cognitiveservices.vision.face.models._models_py3.Emotion object at 0x7fa0cab133d0>, 'hair': None, 'makeup': None, 'occlusion': None, 'accessories': None, 'blur': None, 'exposure': None, 'noise': None}\n"
    }
   ],
   "source": [
    "# Create an authenticated FaceClient.\n",
    "face_client = FaceClient(ENDPOINT, CognitiveServicesCredentials(KEY))\n",
    "\n",
    "# Detect a face in an image that contains a single face\n",
    "single_face_image_url = 'https://www.biography.com/.image/t_share/MTQ1MzAyNzYzOTgxNTE0NTEz/john-f-kennedy---mini-biography.jpg'\n",
    "single_image_name = os.path.basename(single_face_image_url)\n",
    "attributes = ['age', 'emotion']\n",
    "detected_faces = face_client.face.detect_with_url(url=single_face_image_url,return_face_attributes=attributes)\n",
    "if not detected_faces:\n",
    "    raise Exception('No face detected from image {}'.format(single_image_name))\n",
    "\n",
    "# Display the detected face ID in the first single-face image.\n",
    "# Face IDs are used for comparison to faces (their IDs) detected in other images.\n",
    "print('Detected face ID from', single_image_name, ':')\n",
    "# Save this ID for use in Find Similar\n",
    "first_image_face_ID = detected_faces[0].face_id"
   ]
  },
  {
   "cell_type": "code",
   "execution_count": 21,
   "metadata": {
    "tags": []
   },
   "outputs": [
    {
     "output_type": "stream",
     "name": "stdout",
     "text": "{'additional_properties': {}, 'anger': 0.0, 'contempt': 0.002, 'disgust': 0.0, 'fear': 0.0, 'happiness': 0.0, 'neutral': 0.997, 'sadness': 0.001, 'surprise': 0.0}\n"
    }
   ],
   "source": [
    "for face in detected_faces:\n",
    "    print(face.face_attributes.emotion)"
   ]
  },
  {
   "source": [
    "## Finding Match Faces In A Group of Photos\n",
    "\n",
    "- Get a celebrity face as query face\n",
    "- Find the matches in a set of group photos"
   ],
   "cell_type": "markdown",
   "metadata": {}
  },
  {
   "source": [
    "### Detect Query Face"
   ],
   "cell_type": "markdown",
   "metadata": {}
  },
  {
   "cell_type": "code",
   "execution_count": 32,
   "metadata": {},
   "outputs": [],
   "source": [
    "query_face_url = \"https://img.srgcdn.com/e//a3VzaG5nZmY4WnBqN21Jb2pUMEQucG5n.jpg\"\n",
    "single_image_name = os.path.basename(query_face_url)\n",
    "detected_faces = face_client.face.detect_with_url(url=query_face_url)\n",
    "\n",
    "query_face = detected_faces[0].face_id # query face "
   ]
  },
  {
   "source": [
    "### Find match in a group of photos"
   ],
   "cell_type": "markdown",
   "metadata": {}
  },
  {
   "cell_type": "code",
   "execution_count": 35,
   "metadata": {
    "tags": []
   },
   "outputs": [],
   "source": [
    "multi_face_image_urls = [\"https://images.ladbible.com/resize?type=jpeg&url=http://20.theladbiblegroup.com/s3/content/8d062e8358c019b321ef427c313f27a5.png&quality=70&width=720&aspectratio=16:9&extend=white\", \n",
    "\"https://pmchollywoodlife.files.wordpress.com/2015/06/emma-watson-joins-taylor-swifts-crew-ftr-1.jpg\", \n",
    "\"https://images.vogue.it/gallery/40353/Big/d62bc4a8-63e4-44f7-84cd-045ddb1b5605.JPG\", \n",
    "\"https://akm-img-a-in.tosshub.com/indiatoday/images/story/201912/harry_potter-770x433.jpeg?lW8VCYre9okxIKqugT8fbEdwm9e2HXO5\"]\n",
    "\n",
    "lst_fce = {}\n",
    "\n",
    "for url in multi_face_image_urls: \n",
    "    lst = face_client.face.detect_with_url(url)\n",
    "    lst_fce[url] = lst\n",
    "\n"
   ]
  },
  {
   "cell_type": "code",
   "execution_count": 40,
   "metadata": {},
   "outputs": [],
   "source": [
    "def getRectangle(faceDictionary):\n",
    "    rect = faceDictionary.face_rectangle\n",
    "    left = rect.left\n",
    "    top = rect.top\n",
    "    right = left + rect.width\n",
    "    bottom = top + rect.height\n",
    "    \n",
    "    return ((left, top), (right, bottom))"
   ]
  },
  {
   "cell_type": "code",
   "execution_count": 41,
   "metadata": {
    "tags": []
   },
   "outputs": [
    {
     "output_type": "stream",
     "name": "stdout",
     "text": "similar faces for image: https://images.ladbible.com/resize?type=jpeg&url=http://20.theladbiblegroup.com/s3/content/8d062e8358c019b321ef427c313f27a5.png&quality=70&width=720&aspectratio=16:9&extend=white\n  Face ID:  f9218728-1787-4000-91ad-41dc7348ff91\n  Face rectangle:\n  Left:  324\n  Top:  62\n  Width:  36\n  Height:  36\nsimilar faces for image: https://pmchollywoodlife.files.wordpress.com/2015/06/emma-watson-joins-taylor-swifts-crew-ftr-1.jpg\n  Face ID:  e55e8c9a-a307-40e3-a9ed-6aa5e9a213c4\n  Face rectangle:\n  Left:  266\n  Top:  218\n  Width:  61\n  Height:  61\nsimilar faces for image: https://images.vogue.it/gallery/40353/Big/d62bc4a8-63e4-44f7-84cd-045ddb1b5605.JPG\n  Face ID:  f7718808-ab19-46fa-b1de-1ed0a18bcf8c\n  Face rectangle:\n  Left:  172\n  Top:  182\n  Width:  67\n  Height:  67\nsimilar faces for image: https://akm-img-a-in.tosshub.com/indiatoday/images/story/201912/harry_potter-770x433.jpeg?lW8VCYre9okxIKqugT8fbEdwm9e2HXO5\n  Face ID:  fe172541-a6ff-4ec0-be64-a1bff74839cf\n  Face rectangle:\n  Left:  501\n  Top:  90\n  Width:  36\n  Height:  36\n"
    }
   ],
   "source": [
    "for url, lst in lst_fce.items(): \n",
    "    second_image_face_IDs = list(map(lambda x: x.face_id, lst))\n",
    "    # Next, find similar face IDs like the one detected in the first image.\n",
    "    similar_faces = face_client.face.find_similar(face_id=query_face, face_ids=second_image_face_IDs)\n",
    "    print(f\"similar faces for image: {url}\")\n",
    "    for fce in similar_faces: \n",
    "        id = fce.face_id\n",
    "        # The similar face IDs of the single face image and the group image do not need to match, \n",
    "        # they are only used for identification purposes in each image.\n",
    "        # The similar faces are matched using the Cognitive Services algorithm in find_similar().\n",
    "        face_info = next(x for x in lst if x.face_id == id)\n",
    "        if face_info:\n",
    "            print('  Face ID: ', id)\n",
    "            print('  Face rectangle:')\n",
    "            print('  Left: ', str(face_info.face_rectangle.left))\n",
    "            print('  Top: ', str(face_info.face_rectangle.top))\n",
    "            print('  Width: ', str(face_info.face_rectangle.width))\n",
    "            print('  Height: ', str(face_info.face_rectangle.height))\n",
    "\n",
    "            # Download the image from the url\n",
    "            response = requests.get(url)\n",
    "            img = Image.open(BytesIO(response.content))\n",
    "            draw = ImageDraw.Draw(img)\n",
    "            draw.rectangle(getRectangle(face_info), outline='red')\n",
    "            \n",
    "            img.show()\n",
    "            "
   ]
  },
  {
   "cell_type": "code",
   "execution_count": 45,
   "metadata": {},
   "outputs": [],
   "source": []
  },
  {
   "cell_type": "code",
   "execution_count": null,
   "metadata": {},
   "outputs": [],
   "source": []
  }
 ]
}